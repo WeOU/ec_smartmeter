{
 "cells": [
  {
   "cell_type": "code",
   "execution_count": 1,
   "metadata": {},
   "outputs": [],
   "source": [
    "from __future__ import print_function \n",
    "import serial\n",
    "import time\n",
    "import re"
   ]
  },
  {
   "cell_type": "code",
   "execution_count": 333,
   "metadata": {},
   "outputs": [],
   "source": [
    "data_pattern = '(?P<id>[0-9]\\.[0-9]\\.[0-9])\\((?P<data>[0-9a-zA-Z\\.\\*]*)\\)'\n",
    "ACK = '\\x06'\n",
    "STX = '\\x02'\n",
    "ETX = '\\x03'\n",
    "default_tr = 0.3\n",
    "tr = default_tr\n",
    "IskraMT171=serial.Serial(port='/dev/ttyUSB0', baudrate=300, bytesize=7, parity='E', stopbits=1, timeout=3.0); # open port at specified speed"
   ]
  },
  {
   "cell_type": "code",
   "execution_count": 335,
   "metadata": {},
   "outputs": [
    {
     "data": {
      "text/plain": [
       "7"
      ]
     },
     "execution_count": 335,
     "metadata": {},
     "output_type": "execute_result"
    }
   ],
   "source": [
    "IskraMT171.bytesize"
   ]
  },
  {
   "cell_type": "code",
   "execution_count": 315,
   "metadata": {},
   "outputs": [],
   "source": [
    "# Initiate request\n",
    "IskraMT171.baudrate=300\n",
    "Request_message='/?!\\r\\n' + ACK + '000\\r\\n' # IEC 62056-21:2002(E) 6.3.1\n",
    "IskraMT171.write(Request_message.encode())\n",
    "time.sleep(tr)\n",
    "# print('ID:', IskraMT171.readline())"
   ]
  },
  {
   "cell_type": "code",
   "execution_count": 316,
   "metadata": {},
   "outputs": [
    {
     "name": "stdout",
     "output_type": "stream",
     "text": [
      "\n"
     ]
    }
   ],
   "source": [
    "for i in range(5):\n",
    "    data = IskraMT171.readline() \n",
    "    print(data.decode())\n",
    "    if data.decode() == '':\n",
    "        break"
   ]
  },
  {
   "cell_type": "code",
   "execution_count": 320,
   "metadata": {},
   "outputs": [],
   "source": [
    "new_baud_rate = 9600\n",
    "speed = '5'"
   ]
  },
  {
   "cell_type": "code",
   "execution_count": 322,
   "metadata": {},
   "outputs": [
    {
     "name": "stdout",
     "output_type": "stream",
     "text": [
      "/ISK5\\2MT372-3107\n",
      "\n",
      "\u00021.8.0(14004.579*kWh)\n",
      "2.8.0(21459.710*kWh)\n",
      "0.9.1(142239)\n",
      "0.9.2(171029)\n",
      "!\n",
      "\u0003!\n"
     ]
    }
   ],
   "source": [
    "# Initiate request\n",
    "IskraMT171.baudrate=300\n",
    "Request_message='/?!\\r\\n' + ACK + '000\\r\\n' # IEC 62056-21:2002(E) 6.3.1\n",
    "IskraMT171.write(Request_message.encode())\n",
    "time.sleep(tr)\n",
    "print(IskraMT171.readline().decode())\n",
    "\n",
    "#time.sleep(tr)\n",
    "Acknowledgement_message= ACK + '0' + speed + '0\\r\\n' # IEC 62056-21:2002(E) 6.3.3\n",
    "IskraMT171.write(Acknowledgement_message.encode())\n",
    "\n",
    "time.sleep(tr)\n",
    "IskraMT171.baudrate=new_baud_rate\n",
    "\n",
    "time.sleep(tr)\n",
    "data = IskraMT171.readall()\n",
    "print(data.decode())\n",
    "# print('ID:', IskraMT171.readline())"
   ]
  },
  {
   "cell_type": "markdown",
   "metadata": {},
   "source": [
    "Change Bauderate to case 5: 9600\n",
    "- j62056-2.1.0 package, IdentificationMessage.java file"
   ]
  },
  {
   "cell_type": "code",
   "execution_count": 247,
   "metadata": {},
   "outputs": [],
   "source": [
    "new_baud_rate = 2400\n",
    "speed = '3'"
   ]
  },
  {
   "cell_type": "code",
   "execution_count": 205,
   "metadata": {},
   "outputs": [],
   "source": [
    "new_baud_rate = 4800\n",
    "speed = '4'"
   ]
  },
  {
   "cell_type": "code",
   "execution_count": 229,
   "metadata": {},
   "outputs": [],
   "source": [
    "new_baud_rate = 9600\n",
    "speed = '5'"
   ]
  },
  {
   "cell_type": "code",
   "execution_count": 258,
   "metadata": {},
   "outputs": [],
   "source": [
    "# Read data\n",
    "IskraMT171.baudrate=300\n",
    "Acknowledgement_message= ACK + '0' + speed + '0\\r\\n' # IEC 62056-21:2002(E) 6.3.3\n",
    "IskraMT171.write(Acknowledgement_message.encode())\n",
    "time.sleep(tr)\n",
    "IskraMT171.baudrate=new_baud_rate\n",
    "time.sleep(tr)"
   ]
  },
  {
   "cell_type": "code",
   "execution_count": 259,
   "metadata": {},
   "outputs": [
    {
     "name": "stdout",
     "output_type": "stream",
     "text": [
      "\u00021.8.0(14004.538*kWh)\r\n",
      "2.8.0(21458.753*kWh)\r\n",
      "0.9.1(131939)\r\n",
      "0.9.2(171029)\r\n",
      "!\r\n",
      "\u0003-\n"
     ]
    }
   ],
   "source": [
    "data = IskraMT171.readall()\n",
    "print(data.decode())"
   ]
  },
  {
   "cell_type": "code",
   "execution_count": 231,
   "metadata": {},
   "outputs": [
    {
     "name": "stdout",
     "output_type": "stream",
     "text": [
      "9600\n",
      "\u00021.8.0(14004.538*kWh)\r\n",
      "\n",
      "2.8.0(21458.347*kWh)\r\n",
      "\n",
      "0.9.1(130755)\r\n",
      "\n",
      "0.9.2(171029)\r\n",
      "\n",
      "!\r\n",
      "\n"
     ]
    }
   ],
   "source": [
    "print(IskraMT171.baudrate)\n",
    "for i in range(5):\n",
    "    data = IskraMT171.readline() \n",
    "    print(data.decode())\n",
    "    if data.decode() == '':\n",
    "        break"
   ]
  },
  {
   "cell_type": "code",
   "execution_count": 181,
   "metadata": {},
   "outputs": [
    {
     "name": "stdout",
     "output_type": "stream",
     "text": [
      "\n"
     ]
    }
   ],
   "source": [
    "data = b''.join([IskraMT171.readline() for i in range(5)])\n",
    "print(data.decode())"
   ]
  },
  {
   "cell_type": "code",
   "execution_count": 332,
   "metadata": {},
   "outputs": [],
   "source": [
    "# Close port\n",
    "IskraMT171.close()"
   ]
  },
  {
   "cell_type": "code",
   "execution_count": 5,
   "metadata": {
    "scrolled": true
   },
   "outputs": [],
   "source": [
    "data_pattern = '(?P<id>[0-9]\\.[0-9]\\.[0-9])\\((?P<data>[0-9a-zA-Z\\.\\*]*)\\)'\n",
    "ACK = '\\x06'\n",
    "STX = '\\x02'\n",
    "ETX = '\\x03'\n",
    "default_tr = 0.3\n",
    "\n",
    "def query_data(tr = default_tr):\n",
    "    \"\"\"\n",
    "    Get the data output from the meter\n",
    "    \n",
    "    Parameters\n",
    "    ----------\n",
    "    tr: [optional] sleep time after the request has been sent\n",
    "    \n",
    "    Returns\n",
    "    -------\n",
    "    dict: contains the different output info from the meter\n",
    "    \n",
    "    \n",
    "    Example\n",
    "    -------\n",
    "    >>> query_data()\n",
    "    {'0.9.1': '162620',\n",
    "     '0.9.2': '171028',\n",
    "     '1.8.0': '14002.574*kWh',\n",
    "     '2.8.0': '21450.504*kWh'}\n",
    "     \n",
    "    \"\"\"\n",
    "    \n",
    "    # Open port\n",
    "    IskraMT171=serial.Serial(port='/dev/ttyUSB0', baudrate=300, bytesize=7, parity='E', stopbits=1, timeout=1.5); # open port at specified speed\n",
    "\n",
    "    # Initiate request\n",
    "    Request_message='/?!\\r\\n' + ACK + '000\\r\\n' # IEC 62056-21:2002(E) 6.3.1\n",
    "    IskraMT171.write(Request_message.encode())\n",
    "    time.sleep(tr)\n",
    "    # print('ID:', IskraMT171.readline())\n",
    "\n",
    "    # Read data\n",
    "    Acknowledgement_message= ACK + '000\\r\\n' # IEC 62056-21:2002(E) 6.3.3\n",
    "    IskraMT171.write(Acknowledgement_message.encode())\n",
    "    time.sleep(tr)\n",
    "    data = b''.join([IskraMT171.readline() for i in range(5)])\n",
    "    # print(data.decode())\n",
    "    \n",
    "    # Close port\n",
    "    IskraMT171.close()\n",
    "    \n",
    "    # Extract data using REgEx pattern\n",
    "    processed = dict(re.findall(data_pattern, data.decode()))\n",
    "    return processed"
   ]
  },
  {
   "cell_type": "code",
   "execution_count": 6,
   "metadata": {
    "scrolled": true
   },
   "outputs": [
    {
     "name": "stdout",
     "output_type": "stream",
     "text": [
      "ID: b'/ISK5\\\\2MT372-3107\\r\\n'\n",
      "\u00021.8.0(14002.574*kWh)\n",
      "2.8.0(21450.504*kWh)\n",
      "0.9.1(162620)\n",
      "0.9.2(171028)\n",
      "!\n",
      "\n"
     ]
    }
   ],
   "source": [
    "data = query_data()"
   ]
  },
  {
   "cell_type": "code",
   "execution_count": 7,
   "metadata": {
    "scrolled": true
   },
   "outputs": [
    {
     "data": {
      "text/plain": [
       "{'0.9.1': '162620',\n",
       " '0.9.2': '171028',\n",
       " '1.8.0': '14002.574*kWh',\n",
       " '2.8.0': '21450.504*kWh'}"
      ]
     },
     "execution_count": 7,
     "metadata": {},
     "output_type": "execute_result"
    }
   ],
   "source": [
    "data"
   ]
  },
  {
   "cell_type": "code",
   "execution_count": 273,
   "metadata": {},
   "outputs": [
    {
     "data": {
      "text/plain": [
       "'/ISK5\\\\2MT372-3107\\r\\n'"
      ]
     },
     "execution_count": 273,
     "metadata": {},
     "output_type": "execute_result"
    }
   ],
   "source": []
  },
  {
   "cell_type": "code",
   "execution_count": 278,
   "metadata": {},
   "outputs": [
    {
     "name": "stdout",
     "output_type": "stream",
     "text": [
      "/ISK5\\2MT372-3107\n",
      "\n",
      "\u00021.8.0(14004.540*kWh)\n",
      "2.8.0(21458.909*kWh)\n",
      "0.9.1(132900)\n",
      "0.9.2(171029)\n",
      "!\n",
      "\u0003*\n"
     ]
    }
   ],
   "source": [
    "IskraMT171.baudrate=300\n",
    "IskraMT171.write(b'/?!\\r\\n')\n",
    "print(IskraMT171.readline().decode())\n",
    "\n",
    "IskraMT171.baudrate=300\n",
    "IskraMT171.write(b'\\x06050\\r\\n')\n",
    "time.sleep(tr)\n",
    "IskraMT171.baudrate=9600\n",
    "print(IskraMT171.readall().decode())"
   ]
  },
  {
   "cell_type": "code",
   "execution_count": 324,
   "metadata": {},
   "outputs": [],
   "source": [
    "ACK = b'\\x06'\n",
    "CR = b'\\r'\n",
    "LF = b'\\n'"
   ]
  },
  {
   "cell_type": "code",
   "execution_count": 276,
   "metadata": {},
   "outputs": [
    {
     "name": "stdout",
     "output_type": "stream",
     "text": [
      "/ISK5\\2MT372-3107\r\n",
      "\n"
     ]
    }
   ],
   "source": [
    "IskraMT171.baudrate=300\n",
    "IskraMT171.write(b'/?!\\r\\n')\n",
    "print(IskraMT171.readline().decode())"
   ]
  },
  {
   "cell_type": "code",
   "execution_count": 311,
   "metadata": {},
   "outputs": [],
   "source": [
    "# Sign on\n",
    "def sign_on():\n",
    "    IskraMT171.baudrate=300\n",
    "    IskraMT171.write(b'/?!' + CR + LF)\n",
    "    print(IskraMT171.readline().decode())"
   ]
  },
  {
   "cell_type": "code",
   "execution_count": 288,
   "metadata": {},
   "outputs": [],
   "source": [
    "def standard_read_C():\n",
    "    sign_on()\n",
    "    IskraMT171.baudrate=300\n",
    "    IskraMT171.write(ACK + b'050' + CR + LF)\n",
    "    time.sleep(tr)\n",
    "    IskraMT171.baudrate=9600\n",
    "    time.sleep(tr)\n",
    "    data = IskraMT171.readall().decode()\n",
    "    print(data)\n",
    "    return data"
   ]
  },
  {
   "cell_type": "code",
   "execution_count": 326,
   "metadata": {},
   "outputs": [
    {
     "name": "stdout",
     "output_type": "stream",
     "text": [
      "/ISK5\\2MT372-3107\n",
      "\n",
      "\u00021.8.0(14004.582*kWh)\n",
      "2.8.0(21459.711*kWh)\n",
      "0.9.1(142410)\n",
      "0.9.2(171029)\n",
      "!\n",
      "\u0003)\n"
     ]
    },
    {
     "data": {
      "text/plain": [
       "'\\x021.8.0(14004.582*kWh)\\r\\n2.8.0(21459.711*kWh)\\r\\n0.9.1(142410)\\r\\n0.9.2(171029)\\r\\n!\\r\\n\\x03)'"
      ]
     },
     "execution_count": 326,
     "metadata": {},
     "output_type": "execute_result"
    }
   ],
   "source": [
    "standard_read_C()"
   ]
  },
  {
   "cell_type": "code",
   "execution_count": 327,
   "metadata": {},
   "outputs": [
    {
     "name": "stdout",
     "output_type": "stream",
     "text": [
      "/ISK5\\2MT372-3107\n",
      "\n",
      "\u0006252\n",
      "\n",
      "\n"
     ]
    }
   ],
   "source": [
    "IskraMT171.bytesize=7\n",
    "IskraMT171.parity='E'\n",
    "#time.sleep(tr)\n",
    "sign_on()\n",
    "time.sleep(tr)\n",
    "IskraMT171.baudrate=300\n",
    "time.sleep(tr)\n",
    "IskraMT171.write(ACK + b'252' + CR + LF)\n",
    "time.sleep(tr)\n",
    "IskraMT171.baudrate=9600\n",
    "time.sleep(tr)\n",
    "print(IskraMT171.readall().decode())\n",
    "time.sleep(tr)\n",
    "IskraMT171.bytesize=8\n",
    "IskraMT171.parity='N'\n",
    "#time.sleep(tr)\n",
    "print(IskraMT171.readall().decode())"
   ]
  },
  {
   "cell_type": "code",
   "execution_count": 328,
   "metadata": {
    "scrolled": true
   },
   "outputs": [
    {
     "name": "stdout",
     "output_type": "stream",
     "text": [
      "\n"
     ]
    }
   ],
   "source": [
    "IskraMT171.bytesize=8\n",
    "IskraMT171.parity='N'\n",
    "#time.sleep(tr)\n",
    "print(IskraMT171.readall().decode())"
   ]
  },
  {
   "cell_type": "code",
   "execution_count": 330,
   "metadata": {},
   "outputs": [
    {
     "name": "stdout",
     "output_type": "stream",
     "text": [
      "\n"
     ]
    }
   ],
   "source": [
    "IskraMT171.write(ACK + b'252' + CR + LF)\n",
    "time.sleep(tr)\n",
    "print(IskraMT171.readall().decode())"
   ]
  },
  {
   "cell_type": "code",
   "execution_count": 331,
   "metadata": {},
   "outputs": [
    {
     "data": {
      "text/plain": [
       "'N'"
      ]
     },
     "execution_count": 331,
     "metadata": {},
     "output_type": "execute_result"
    }
   ],
   "source": [
    "IskraMT171.parity"
   ]
  },
  {
   "cell_type": "code",
   "execution_count": null,
   "metadata": {},
   "outputs": [],
   "source": []
  }
 ],
 "metadata": {
  "kernelspec": {
   "display_name": "Python 3",
   "language": "python",
   "name": "python3"
  },
  "language_info": {
   "codemirror_mode": {
    "name": "ipython",
    "version": 3
   },
   "file_extension": ".py",
   "mimetype": "text/x-python",
   "name": "python",
   "nbconvert_exporter": "python",
   "pygments_lexer": "ipython3",
   "version": "3.6.2"
  }
 },
 "nbformat": 4,
 "nbformat_minor": 2
}
